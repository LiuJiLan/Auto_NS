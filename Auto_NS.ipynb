{
  "nbformat": 4,
  "nbformat_minor": 0,
  "metadata": {
    "colab": {
      "provenance": [],
      "collapsed_sections": []
    },
    "kernelspec": {
      "name": "python3",
      "display_name": "Python 3"
    },
    "language_info": {
      "name": "python"
    }
  },
  "cells": [
    {
      "cell_type": "code",
      "execution_count": null,
      "metadata": {
        "id": "9DgTrDWmkP_D"
      },
      "outputs": [],
      "source": [
        "from PIL import Image\n",
        "import numpy as np\n",
        "import matplotlib.pyplot as plt\n",
        "import math"
      ]
    },
    {
      "cell_type": "code",
      "source": [
        "plannig_path\n",
        "\n",
        "prev_dot = 0,0\n",
        "for dot in plan:\n",
        "  form_A_to_B(prev_dot, dot)\n",
        "  draw\n",
        "  prev_dot = dot\n",
        "\n",
        "\n"
      ],
      "metadata": {
        "id": "dmL7ltBVkgqS"
      },
      "execution_count": null,
      "outputs": []
    },
    {
      "cell_type": "code",
      "source": [
        "plannig_path:\n",
        "  arr = array.deepcopy\n",
        "\n",
        "  now = 0,0\n",
        "\n",
        "\n",
        "  while True\n",
        "    if no 0 in arr:\n",
        "      return\n",
        "\n",
        "    next = find_the_nearest(now, arr)\n",
        "    plan.append(next)\n",
        "    arr. location(next) = 1\n",
        "    now = next"
      ],
      "metadata": {
        "id": "bJNE0sfhl_1A"
      },
      "execution_count": null,
      "outputs": []
    },
    {
      "cell_type": "code",
      "source": [
        "find_the_nearest()\n",
        "  arr1 = asshape_deepcopy.dtype = float64\n",
        "\n",
        "  for y in shape[0]: #Y\n",
        "    for x in shape[1]: #X\n",
        "      if == 0:\n",
        "        arr[y, x] = dot.dis(x, y) \n",
        "      else\n",
        "        = DOT.MAX\n",
        "\n",
        "  return where.min"
      ],
      "metadata": {
        "id": "5e5JSmWrpaar"
      },
      "execution_count": null,
      "outputs": []
    },
    {
      "cell_type": "code",
      "source": [
        "dot.dis(self, x, y):\n",
        "  if self.xy==xy\n",
        "    return 0\n",
        "  vec_x = x - self.x\n",
        "  vec_y = y - self.y # 指向被减数\n",
        "  \n",
        "  v_x_ = vec_y\n",
        "  v_y_ = -vec_x # 顺时针旋转90度\n",
        "\n",
        "  perfer = (math.atan2(v_y_,v_x_) + math.pi) / math.pi / 2\n",
        "\n",
        "  return abs(vec_x) + abs(vec_y) + perfer"
      ],
      "metadata": {
        "id": "h37d_V8T4gZj"
      },
      "execution_count": null,
      "outputs": []
    },
    {
      "cell_type": "code",
      "source": [
        "\n",
        "\n",
        "MAX_DISTENCE = 9999  # 对角线最远, 320 + 120 = 440\n",
        "\n",
        "\n",
        "class Printer:\n",
        "    pass\n",
        "\n",
        "\n",
        "class Dot:\n",
        "    def __init__(self, x=0, y=0):\n",
        "        self.x = x\n",
        "        self.y = y\n",
        "\n",
        "    def dist(self, x, y):\n",
        "        if x == self.x and y == self.y:\n",
        "            return 0\n",
        "\n",
        "        # 得出由self指向(x, y)的向量\n",
        "        vec_x = x - self.x\n",
        "        vec_y = self.y - y\n",
        "        # y要反转, 因为是向下生长的\n",
        "\n",
        "        # 顺时针旋转90度, 但是y反转所以转180度, 反而是逆时针90\n",
        "        v_x_ = -vec_y  # v_x_ => Vec x'\n",
        "        v_y_ = vec_x\n",
        "        \n",
        "        # 但是由于0会映射到2π上去, 所以要多写个if\n",
        "        if vec_x == 0 and vec_y > 0:\n",
        "          perfer = 0\n",
        "        else:\n",
        "          perfer = (math.atan2(v_y_, v_x_) + math.pi) / math.pi / 2\n",
        "\n",
        "        return abs(vec_x) + abs(vec_y) + perfer\n",
        "\n"
      ],
      "metadata": {
        "id": "GfXtvHEBw8FD"
      },
      "execution_count": null,
      "outputs": []
    },
    {
      "cell_type": "code",
      "source": [
        "dot = Dot(2,2)\n",
        "\n",
        "\"\"\"for y in range(5):\n",
        "  for x in range(5):\n",
        "    print(x, \", \", y, \" : \", end=\"\")\n",
        "    print(dot.dist(x, y))\n",
        "\"\"\"\n",
        "\n",
        "print(dot.dist(2, 0))\n",
        "print(dot.dist(1, 1))\n",
        "print(dot.dist(0, 2))\n",
        "print(dot.dist(1, 3))\n",
        "print(dot.dist(2, 4))\n",
        "print(dot.dist(3, 3))\n",
        "print(dot.dist(4, 2))\n",
        "print(dot.dist(3, 1))"
      ],
      "metadata": {
        "colab": {
          "base_uri": "https://localhost:8080/"
        },
        "id": "yV44LmeaxCVI",
        "outputId": "e516902c-0cdc-4544-b659-6f32a4985b64"
      },
      "execution_count": null,
      "outputs": [
        {
          "output_type": "stream",
          "name": "stdout",
          "text": [
            "2\n",
            "2.125\n",
            "2.25\n",
            "2.375\n",
            "2.5\n",
            "2.625\n",
            "2.75\n",
            "2.875\n"
          ]
        }
      ]
    },
    {
      "cell_type": "code",
      "source": [
        "a = Dot(2,2)\n",
        "b = a\n",
        "c = b\n",
        "print(c.x, c.y, a.x, a.y)"
      ],
      "metadata": {
        "colab": {
          "base_uri": "https://localhost:8080/"
        },
        "id": "DbK9eXvCHgJ1",
        "outputId": "3e92567a-25ad-4d6a-cca4-b6455d1d66b8"
      },
      "execution_count": null,
      "outputs": [
        {
          "output_type": "stream",
          "name": "stdout",
          "text": [
            "2 2 2 2\n"
          ]
        }
      ]
    },
    {
      "cell_type": "code",
      "source": [
        "ls = np.arange(12)\n",
        "ls = ls.reshape(3, 4)\n",
        "print(ls.shape)\n",
        "x, y = np.where(ls == np.max(ls))\n",
        "print(ls)\n",
        "#print()"
      ],
      "metadata": {
        "colab": {
          "base_uri": "https://localhost:8080/"
        },
        "id": "3RhSR8lYMPEE",
        "outputId": "d6a4ef8e-32ff-4dc1-e03e-0a463c676e2f"
      },
      "execution_count": null,
      "outputs": [
        {
          "output_type": "stream",
          "name": "stdout",
          "text": [
            "(3, 4)\n",
            "[[ 0  1  2  3]\n",
            " [ 4  5  6  7]\n",
            " [ 8  9 10 11]]\n"
          ]
        }
      ]
    },
    {
      "cell_type": "code",
      "source": [
        "test = Dot(0, 120)\n",
        "print(test.dist(1,0))"
      ],
      "metadata": {
        "colab": {
          "base_uri": "https://localhost:8080/"
        },
        "id": "D8WlPMaRSgCB",
        "outputId": "b136c56c-2761-4a12-a82e-18e11392d105"
      },
      "execution_count": null,
      "outputs": [
        {
          "output_type": "stream",
          "name": "stdout",
          "text": [
            "1   120\n",
            "121.99867373950747\n"
          ]
        }
      ]
    }
  ]
}